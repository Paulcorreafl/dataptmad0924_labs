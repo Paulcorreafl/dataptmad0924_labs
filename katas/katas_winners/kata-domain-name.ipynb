{
 "cells": [
  {
   "cell_type": "markdown",
   "id": "a447b8b5-f16b-451f-b45c-47746f721e1e",
   "metadata": {},
   "source": [
    "# Kata:"
   ]
  },
  {
   "cell_type": "markdown",
   "id": "c7379b61-1f04-4fa2-8865-bf3e2c83b39e",
   "metadata": {},
   "source": [
    "https://www.codewars.com/kata/514a024011ea4fb54200004b/train/python"
   ]
  },
  {
   "cell_type": "markdown",
   "id": "5e2a4659-1d95-44fb-b92c-4646b4da4e6f",
   "metadata": {},
   "source": [
    "## Your name or team members:"
   ]
  },
  {
   "cell_type": "code",
   "execution_count": null,
   "id": "29ead553-d8b4-41aa-937f-7fd045595855",
   "metadata": {},
   "outputs": [],
   "source": [
    "Kristina"
   ]
  },
  {
   "cell_type": "markdown",
   "id": "f04997cc-966d-4e06-8eb0-64ab376728f8",
   "metadata": {},
   "source": [
    "## Use the following cells to test your solution:"
   ]
  },
  {
   "cell_type": "code",
   "execution_count": 38,
   "id": "4202edc5-f719-4068-96bd-55703a8a6c27",
   "metadata": {},
   "outputs": [],
   "source": [
    "#url = \"http://github.com/carbonfive/raygun\"\n",
    "#url = \"http://www.zombie-bites.com\"\n",
    "#url = \"https://www.cnet.com\"\n",
    "url=\"www.xakep.ru\""
   ]
  },
  {
   "cell_type": "code",
   "execution_count": 23,
   "id": "1c1f6098-25a1-4805-a249-b833ca4a66a0",
   "metadata": {},
   "outputs": [
    {
     "name": "stdout",
     "output_type": "stream",
     "text": [
      "github.com/carbonfive/raygun\n",
      "github\n"
     ]
    }
   ],
   "source": [
    "site=url.split('//')[1]\n",
    "print(site)\n",
    "if site.startswith('www'):\n",
    "    site.split('.')[1]\n",
    "    print(site.split('.')[1])\n",
    "else:\n",
    "    site.split('.')[0]\n",
    "    print(site.split('.')[0])"
   ]
  },
  {
   "cell_type": "code",
   "execution_count": 25,
   "id": "ad420ba8",
   "metadata": {},
   "outputs": [],
   "source": [
    "def domain_name(url):\n",
    "    site1=url.split('//')[1]\n",
    "    if site.startswith('www'):\n",
    "        return site.split('.')[1]\n",
    "    else:\n",
    "        return site.split('.')[0]\n",
    "#esto no me ha funcionado porque hay webs que no tienen el HTPP al principio, hay que completar el código\n"
   ]
  },
  {
   "cell_type": "code",
   "execution_count": 39,
   "id": "6c66d2df",
   "metadata": {},
   "outputs": [
    {
     "name": "stdout",
     "output_type": "stream",
     "text": [
      "False\n"
     ]
    }
   ],
   "source": [
    "if url.startswith(\"http://\") or url.startswith(\"https://\"):\n",
    "    print(\"True\")\n",
    "else:\n",
    "    print(\"False\")"
   ]
  },
  {
   "cell_type": "code",
   "execution_count": 49,
   "id": "a5a34298",
   "metadata": {},
   "outputs": [],
   "source": [
    "def domain_name(url):\n",
    "    if url.startswith(\"http://\") or url.startswith(\"https://\"):\n",
    "        site=url.split('//')[1]\n",
    "        if site.startswith('www'):\n",
    "            return site.split('.')[1]\n",
    "        else:\n",
    "            return site.split('.')[0]\n",
    "    else:\n",
    "        if url.startswith('www'):\n",
    "            return url.split('.')[1]\n",
    "        else:\n",
    "            return url.split('.')[0]"
   ]
  },
  {
   "cell_type": "code",
   "execution_count": 50,
   "id": "015c09d9",
   "metadata": {},
   "outputs": [
    {
     "data": {
      "text/plain": [
       "'xakep'"
      ]
     },
     "execution_count": 50,
     "metadata": {},
     "output_type": "execute_result"
    }
   ],
   "source": [
    "domain_name(url)"
   ]
  },
  {
   "cell_type": "markdown",
   "id": "5e5948ae-bfb0-4aa7-8cc0-83970accb44a",
   "metadata": {},
   "source": [
    "## Copy your submited solution here:"
   ]
  },
  {
   "cell_type": "code",
   "execution_count": null,
   "id": "de8f88a1-897b-4b92-8c9f-e04d16cec21a",
   "metadata": {},
   "outputs": [],
   "source": [
    "def domain_name(url):\n",
    "    if url.startswith(\"http://\") or url.startswith(\"https://\"):\n",
    "        site=url.split('//')[1]\n",
    "        if site.startswith('www'):\n",
    "            return site.split('.')[1]\n",
    "        else:\n",
    "            return site.split('.')[0]\n",
    "    else:\n",
    "        if url.startswith('www'):\n",
    "            return url.split('.')[1]\n",
    "        else:\n",
    "            return url.split('.')[0]"
   ]
  }
 ],
 "metadata": {
  "kernelspec": {
   "display_name": "Python 3 (ipykernel)",
   "language": "python",
   "name": "python3"
  },
  "language_info": {
   "codemirror_mode": {
    "name": "ipython",
    "version": 3
   },
   "file_extension": ".py",
   "mimetype": "text/x-python",
   "name": "python",
   "nbconvert_exporter": "python",
   "pygments_lexer": "ipython3",
   "version": "3.10.14"
  }
 },
 "nbformat": 4,
 "nbformat_minor": 5
}
