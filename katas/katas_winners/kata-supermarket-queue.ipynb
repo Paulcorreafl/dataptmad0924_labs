{
 "cells": [
  {
   "cell_type": "markdown",
   "id": "a447b8b5-f16b-451f-b45c-47746f721e1e",
   "metadata": {},
   "source": [
    "# Kata:"
   ]
  },
  {
   "cell_type": "markdown",
   "id": "c7379b61-1f04-4fa2-8865-bf3e2c83b39e",
   "metadata": {},
   "source": [
    "https://www.codewars.com/kata/57b06f90e298a7b53d000a86/train/python"
   ]
  },
  {
   "cell_type": "markdown",
   "id": "5e2a4659-1d95-44fb-b92c-4646b4da4e6f",
   "metadata": {},
   "source": [
    "## Your name or team members:"
   ]
  },
  {
   "cell_type": "code",
   "execution_count": null,
   "id": "29ead553-d8b4-41aa-937f-7fd045595855",
   "metadata": {},
   "outputs": [],
   "source": [
    "jose luis gonzalez"
   ]
  },
  {
   "cell_type": "markdown",
   "id": "f04997cc-966d-4e06-8eb0-64ab376728f8",
   "metadata": {},
   "source": [
    "## Use the following cells to test your solution:"
   ]
  },
  {
   "cell_type": "code",
   "execution_count": 1,
   "id": "4202edc5-f719-4068-96bd-55703a8a6c27",
   "metadata": {},
   "outputs": [],
   "source": [
    "def queue_time(customers, n):  # definimos la codiciones cuando n es igual a uno y cuando es igual a dos vemos que funciona .\n",
    "    \n",
    "    time = 0\n",
    "    if n == 1:                  # pero es muy poco eficiente al tener que definir todas las posibles cajas asi que tenemos que replantear la manera de que \n",
    "        \n",
    "        time = sum(customers)\n",
    "        return time \n",
    "    else:                          # se púeda trabajar con todas las posibilidades de caja \n",
    "        if n == 2:\n",
    "            time = customers[0]+customers[1]\n",
    "            return time\n",
    "  \n",
    "        \n",
    "        \n",
    "    "
   ]
  },
  {
   "cell_type": "code",
   "execution_count": 7,
   "id": "1c1f6098-25a1-4805-a249-b833ca4a66a0",
   "metadata": {
    "scrolled": true
   },
   "outputs": [
    {
     "data": {
      "text/plain": [
       "8"
      ]
     },
     "execution_count": 7,
     "metadata": {},
     "output_type": "execute_result"
    }
   ],
   "source": [
    "queue_time([5,3,4], 2)       #vemos que funciona pero es poco eficiente\n"
   ]
  },
  {
   "cell_type": "code",
   "execution_count": 8,
   "id": "de8f88a1-897b-4b92-8c9f-e04d16cec21a",
   "metadata": {},
   "outputs": [
    {
     "data": {
      "text/plain": [
       "5"
      ]
     },
     "execution_count": 8,
     "metadata": {},
     "output_type": "execute_result"
    }
   ],
   "source": [
    "queue_time([2,3,10], 2)     #funciona \n"
   ]
  },
  {
   "cell_type": "code",
   "execution_count": 14,
   "id": "d1d3417c",
   "metadata": {},
   "outputs": [],
   "source": [
    "def queue_time(customers, n):\n",
    "    time = [0]*n              # aqui definimos una lista que tiene n elementos que estan en 0 cada elemento de la lista representa el tiempo total de la caja. \n",
    "    for customer in customers:# se itera sobre cada cliente en la lista customers. Cada cliente tiene un tiempo asociado que representa cuánto tiempo necesita.\n",
    "        time[0] += customer   # Aquí se añade el tiempo del cliente al primer elemento de la lista tills, que representa la caja que está libre más pronto\n",
    "        time = sorted(time)   #  Sin embargo, este enfoque asume que el primer elemento siempre es el mínimo, lo cual no es correcto si no se mantiene ordenada la lista después de cada asignación.\n",
    "    return time[n-1]    #  Finalmente, se devuelve el último elemento de la lista tills, que representa el tiempo total requerido para procesar todos los clientes en la caja más ocupada (la última en la lista ordenada).\n",
    "        "
   ]
  },
  {
   "cell_type": "markdown",
   "id": "5e5948ae-bfb0-4aa7-8cc0-83970accb44a",
   "metadata": {},
   "source": [
    "## Copy your submited solution here:"
   ]
  },
  {
   "cell_type": "code",
   "execution_count": 13,
   "id": "8f1fb983",
   "metadata": {},
   "outputs": [],
   "source": [
    "def queue_time(customers, n):\n",
    "    time = [0]*n               \n",
    "    for customer in customers:\n",
    "        time[0] += customer   \n",
    "        time = sorted(time)\n",
    "    return time[n-1]    "
   ]
  }
 ],
 "metadata": {
  "kernelspec": {
   "display_name": "Python [conda env:.conda-m1]",
   "language": "python",
   "name": "conda-env-.conda-m1-py"
  },
  "language_info": {
   "codemirror_mode": {
    "name": "ipython",
    "version": 3
   },
   "file_extension": ".py",
   "mimetype": "text/x-python",
   "name": "python",
   "nbconvert_exporter": "python",
   "pygments_lexer": "ipython3",
   "version": "3.10.14"
  }
 },
 "nbformat": 4,
 "nbformat_minor": 5
}
